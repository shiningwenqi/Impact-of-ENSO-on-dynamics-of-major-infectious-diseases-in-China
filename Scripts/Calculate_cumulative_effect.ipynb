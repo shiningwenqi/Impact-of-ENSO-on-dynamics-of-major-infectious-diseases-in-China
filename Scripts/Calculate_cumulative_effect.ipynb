{
 "cells": [
  {
   "cell_type": "code",
   "execution_count": 1,
   "id": "911da3d4",
   "metadata": {},
   "outputs": [],
   "source": [
    "import pandas as pd\n",
    "import numpy as np\n",
    "import matplotlib.pyplot as plt\n",
    "import os as os"
   ]
  },
  {
   "cell_type": "code",
   "execution_count": null,
   "id": "40c53d07",
   "metadata": {},
   "outputs": [],
   "source": [
    "os.chdir(\"D:/Data/\")  # Change to your working directory\n",
    "coeff = pd.read_csv(\"Coefficients/coefs_Scarletfever.csv\", index_col=0)  \n",
    "cov_matrix = pd.read_csv(\"Coefficients/cov_matrix_Scarletfever.csv\", index_col=0) \n",
    "nlag = 6   \n",
    "\n",
    "panel = pd.read_csv(\"panel.csv\", encoding='GBK', index_col=0)\n",
    "tele_e_mean = panel['t_p_corr_running_e'].mean() \n",
    "tele_c_mean = panel['t_p_corr_running_c'].mean()\n",
    "t_critical=  1.96 # 95% confidence level"
   ]
  },
  {
   "cell_type": "code",
   "execution_count": 7,
   "id": "20a91a1a",
   "metadata": {},
   "outputs": [],
   "source": [
    "def calculate_e_effect(coeff, cov_matrix):  \n",
    "    contrast = np.zeros(len(coeff))\n",
    "  \n",
    "    for j in range(1, nlag+1):\n",
    "        e_lag = f'e_lag{j}'\n",
    "        if e_lag in coeff.index:\n",
    "            contrast[coeff.index.get_loc(e_lag)] += 1\n",
    "        \n",
    "    \n",
    "        for interaction_format in [f'e_lag{j}:t_p_corr_running_e', f't_p_corr_running_e:e_lag{j}']:\n",
    "            if interaction_format in coeff.index:\n",
    "                contrast[coeff.index.get_loc(interaction_format)] = tele_e_mean\n",
    "                break\n",
    "    beta = coeff.values.flatten()\n",
    "    beta= np.nan_to_num(beta, nan=0.0)\n",
    "    estimate = np.dot(contrast, beta)\n",
    "    variance = contrast.T @ cov_matrix @ contrast\n",
    "    se = np.sqrt(variance)\n",
    "\n",
    "    return estimate, se"
   ]
  },
  {
   "cell_type": "code",
   "execution_count": 8,
   "id": "737e5458",
   "metadata": {},
   "outputs": [],
   "source": [
    "def calculate_c_effect(coeff, cov_matrix):  \n",
    "    contrast = np.zeros(len(coeff))\n",
    "    \n",
    "    for j in range(1, nlag+1):\n",
    "        c_lag = f'c_lag{j}'\n",
    "        if c_lag in coeff.index:\n",
    "            contrast[coeff.index.get_loc(c_lag)] += 1\n",
    "        \n",
    "        for interaction_format in [f'c_lag{j}:t_p_corr_running_c', f't_p_corr_running_c:c_lag{j}']:\n",
    "            if interaction_format in coeff.index:\n",
    "                contrast[coeff.index.get_loc(interaction_format)] = tele_c_mean\n",
    "                break\n",
    "    beta = coeff.values.flatten()\n",
    "    beta = np.nan_to_num(beta, nan=0.0)\n",
    "    estimate = np.dot(contrast, beta) \n",
    "    variance = contrast.T @ cov_matrix @ contrast\n",
    "    se = np.sqrt(variance)\n",
    "\n",
    "    return estimate, se"
   ]
  },
  {
   "cell_type": "code",
   "execution_count": 9,
   "id": "c6b10a3a",
   "metadata": {},
   "outputs": [],
   "source": [
    "tele_values = np.linspace(-2, 2, 50) \n",
    "cov_matrix = np.nan_to_num(cov_matrix, nan=0.0)\n",
    "\n",
    "results = []\n",
    "est_e, se_e = calculate_e_effect(coeff, cov_matrix)\n",
    "est_c, se_c = calculate_c_effect(coeff, cov_matrix)\n",
    "\n",
    "results.append({\n",
    "        'estimate_e': est_e,\n",
    "        'lower': est_e - t_critical*se_e,  \n",
    "        'upper': est_e + t_critical*se_e,\n",
    "        'estimate_c': est_c*(-1),\n",
    "        'lower_c': est_c*(-1) - t_critical*se_c,\n",
    "        'upper_c': est_c*(-1) + t_critical*se_c\n",
    "    })\n"
   ]
  },
  {
   "cell_type": "code",
   "execution_count": 10,
   "id": "9d94a950",
   "metadata": {},
   "outputs": [
    {
     "name": "stdout",
     "output_type": "stream",
     "text": [
      "[{'estimate_e': -0.13280941706662241, 'lower': -0.28190733493821785, 'upper': 0.01628850080497299, 'estimate_c': -0.2907522637721963, 'lower_c': -0.360055937475845, 'upper_c': -0.2214485900685476}]\n"
     ]
    }
   ],
   "source": [
    "print(results)"
   ]
  }
 ],
 "metadata": {
  "kernelspec": {
   "display_name": "gis",
   "language": "python",
   "name": "python3"
  },
  "language_info": {
   "codemirror_mode": {
    "name": "ipython",
    "version": 3
   },
   "file_extension": ".py",
   "mimetype": "text/x-python",
   "name": "python",
   "nbconvert_exporter": "python",
   "pygments_lexer": "ipython3",
   "version": "3.9.20"
  }
 },
 "nbformat": 4,
 "nbformat_minor": 5
}
